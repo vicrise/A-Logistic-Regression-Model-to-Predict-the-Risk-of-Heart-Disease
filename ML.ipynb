{
 "cells": [
  {
   "cell_type": "code",
   "execution_count": 5,
   "id": "39856679-e2d6-4a1f-ac26-dc55d16d9721",
   "metadata": {},
   "outputs": [],
   "source": [
    "import pandas as pd\n",
    "import numpy as np\n",
    "from sklearn.linear_model import LogisticRegression\n",
    "from sklearn.model_selection import train_test_split\n",
    "from sklearn.preprocessing import StandardScaler\n",
    "from sklearn.metrics import accuracy_score,classification_report,confusion_matrix"
   ]
  },
  {
   "cell_type": "code",
   "execution_count": 38,
   "id": "0ce6e19f-5ec1-46cc-8166-6b35eaeb3feb",
   "metadata": {},
   "outputs": [],
   "source": [
    "heart = pd.read_csv(r'C:\\Users\\USER\\Downloads\\Hearts.csv')"
   ]
  },
  {
   "cell_type": "code",
   "execution_count": 39,
   "id": "39a2f6b8-0cd5-4326-92f7-c88fdcffa9a9",
   "metadata": {},
   "outputs": [
    {
     "data": {
      "text/html": [
       "<div>\n",
       "<style scoped>\n",
       "    .dataframe tbody tr th:only-of-type {\n",
       "        vertical-align: middle;\n",
       "    }\n",
       "\n",
       "    .dataframe tbody tr th {\n",
       "        vertical-align: top;\n",
       "    }\n",
       "\n",
       "    .dataframe thead th {\n",
       "        text-align: right;\n",
       "    }\n",
       "</style>\n",
       "<table border=\"1\" class=\"dataframe\">\n",
       "  <thead>\n",
       "    <tr style=\"text-align: right;\">\n",
       "      <th></th>\n",
       "      <th>Unnamed: 0</th>\n",
       "      <th>Age</th>\n",
       "      <th>Sex</th>\n",
       "      <th>ChestPain</th>\n",
       "      <th>RestBP</th>\n",
       "      <th>Chol</th>\n",
       "      <th>Fbs</th>\n",
       "      <th>RestECG</th>\n",
       "      <th>MaxHR</th>\n",
       "      <th>ExAng</th>\n",
       "      <th>Oldpeak</th>\n",
       "      <th>Slope</th>\n",
       "      <th>Ca</th>\n",
       "      <th>Thal</th>\n",
       "      <th>AHD</th>\n",
       "    </tr>\n",
       "  </thead>\n",
       "  <tbody>\n",
       "    <tr>\n",
       "      <th>0</th>\n",
       "      <td>1</td>\n",
       "      <td>63</td>\n",
       "      <td>1</td>\n",
       "      <td>typical</td>\n",
       "      <td>145</td>\n",
       "      <td>233</td>\n",
       "      <td>1</td>\n",
       "      <td>2</td>\n",
       "      <td>150</td>\n",
       "      <td>0</td>\n",
       "      <td>2.3</td>\n",
       "      <td>3</td>\n",
       "      <td>0.0</td>\n",
       "      <td>fixed</td>\n",
       "      <td>No</td>\n",
       "    </tr>\n",
       "    <tr>\n",
       "      <th>1</th>\n",
       "      <td>2</td>\n",
       "      <td>67</td>\n",
       "      <td>1</td>\n",
       "      <td>asymptomatic</td>\n",
       "      <td>160</td>\n",
       "      <td>286</td>\n",
       "      <td>0</td>\n",
       "      <td>2</td>\n",
       "      <td>108</td>\n",
       "      <td>1</td>\n",
       "      <td>1.5</td>\n",
       "      <td>2</td>\n",
       "      <td>3.0</td>\n",
       "      <td>normal</td>\n",
       "      <td>Yes</td>\n",
       "    </tr>\n",
       "    <tr>\n",
       "      <th>2</th>\n",
       "      <td>3</td>\n",
       "      <td>67</td>\n",
       "      <td>1</td>\n",
       "      <td>asymptomatic</td>\n",
       "      <td>120</td>\n",
       "      <td>229</td>\n",
       "      <td>0</td>\n",
       "      <td>2</td>\n",
       "      <td>129</td>\n",
       "      <td>1</td>\n",
       "      <td>2.6</td>\n",
       "      <td>2</td>\n",
       "      <td>2.0</td>\n",
       "      <td>reversable</td>\n",
       "      <td>Yes</td>\n",
       "    </tr>\n",
       "    <tr>\n",
       "      <th>3</th>\n",
       "      <td>4</td>\n",
       "      <td>37</td>\n",
       "      <td>1</td>\n",
       "      <td>nonanginal</td>\n",
       "      <td>130</td>\n",
       "      <td>250</td>\n",
       "      <td>0</td>\n",
       "      <td>0</td>\n",
       "      <td>187</td>\n",
       "      <td>0</td>\n",
       "      <td>3.5</td>\n",
       "      <td>3</td>\n",
       "      <td>0.0</td>\n",
       "      <td>normal</td>\n",
       "      <td>No</td>\n",
       "    </tr>\n",
       "    <tr>\n",
       "      <th>4</th>\n",
       "      <td>5</td>\n",
       "      <td>41</td>\n",
       "      <td>0</td>\n",
       "      <td>nontypical</td>\n",
       "      <td>130</td>\n",
       "      <td>204</td>\n",
       "      <td>0</td>\n",
       "      <td>2</td>\n",
       "      <td>172</td>\n",
       "      <td>0</td>\n",
       "      <td>1.4</td>\n",
       "      <td>1</td>\n",
       "      <td>0.0</td>\n",
       "      <td>normal</td>\n",
       "      <td>No</td>\n",
       "    </tr>\n",
       "  </tbody>\n",
       "</table>\n",
       "</div>"
      ],
      "text/plain": [
       "   Unnamed: 0  Age  Sex     ChestPain  RestBP  Chol  Fbs  RestECG  MaxHR  \\\n",
       "0           1   63    1       typical     145   233    1        2    150   \n",
       "1           2   67    1  asymptomatic     160   286    0        2    108   \n",
       "2           3   67    1  asymptomatic     120   229    0        2    129   \n",
       "3           4   37    1    nonanginal     130   250    0        0    187   \n",
       "4           5   41    0    nontypical     130   204    0        2    172   \n",
       "\n",
       "   ExAng  Oldpeak  Slope   Ca        Thal  AHD  \n",
       "0      0      2.3      3  0.0       fixed   No  \n",
       "1      1      1.5      2  3.0      normal  Yes  \n",
       "2      1      2.6      2  2.0  reversable  Yes  \n",
       "3      0      3.5      3  0.0      normal   No  \n",
       "4      0      1.4      1  0.0      normal   No  "
      ]
     },
     "execution_count": 39,
     "metadata": {},
     "output_type": "execute_result"
    }
   ],
   "source": [
    "heart.head()"
   ]
  },
  {
   "cell_type": "code",
   "execution_count": 45,
   "id": "c4d3580c-93c8-4f78-9f1b-329aac7004a2",
   "metadata": {},
   "outputs": [
    {
     "name": "stdout",
     "output_type": "stream",
     "text": [
      "<class 'pandas.core.frame.DataFrame'>\n",
      "Index: 301 entries, 0 to 302\n",
      "Data columns (total 14 columns):\n",
      " #   Column     Non-Null Count  Dtype  \n",
      "---  ------     --------------  -----  \n",
      " 0   Age        301 non-null    int64  \n",
      " 1   Sex        301 non-null    int64  \n",
      " 2   ChestPain  301 non-null    object \n",
      " 3   RestBP     301 non-null    int64  \n",
      " 4   Chol       301 non-null    int64  \n",
      " 5   Fbs        301 non-null    int64  \n",
      " 6   RestECG    301 non-null    int64  \n",
      " 7   MaxHR      301 non-null    int64  \n",
      " 8   ExAng      301 non-null    int64  \n",
      " 9   Oldpeak    301 non-null    float64\n",
      " 10  Slope      301 non-null    int64  \n",
      " 11  Ca         301 non-null    float64\n",
      " 12  Thal       301 non-null    object \n",
      " 13  AHD        301 non-null    object \n",
      "dtypes: float64(2), int64(9), object(3)\n",
      "memory usage: 35.3+ KB\n"
     ]
    }
   ],
   "source": [
    "heart.info()"
   ]
  },
  {
   "cell_type": "code",
   "execution_count": 41,
   "id": "262409fb-e8b3-42f6-a144-7a0787d2ee71",
   "metadata": {},
   "outputs": [
    {
     "data": {
      "text/plain": [
       "Unnamed: 0    0\n",
       "Age           0\n",
       "Sex           0\n",
       "ChestPain     0\n",
       "RestBP        0\n",
       "Chol          0\n",
       "Fbs           0\n",
       "RestECG       0\n",
       "MaxHR         0\n",
       "ExAng         0\n",
       "Oldpeak       0\n",
       "Slope         0\n",
       "Ca            4\n",
       "Thal          2\n",
       "AHD           0\n",
       "dtype: int64"
      ]
     },
     "execution_count": 41,
     "metadata": {},
     "output_type": "execute_result"
    }
   ],
   "source": [
    "heart.isnull().sum()"
   ]
  },
  {
   "cell_type": "code",
   "execution_count": 42,
   "id": "ec38d314-363f-49e3-bd69-81202385ccbe",
   "metadata": {},
   "outputs": [
    {
     "name": "stderr",
     "output_type": "stream",
     "text": [
      "C:\\Users\\USER\\AppData\\Local\\Temp\\ipykernel_8424\\841834980.py:1: FutureWarning: A value is trying to be set on a copy of a DataFrame or Series through chained assignment using an inplace method.\n",
      "The behavior will change in pandas 3.0. This inplace method will never work because the intermediate object on which we are setting values always behaves as a copy.\n",
      "\n",
      "For example, when doing 'df[col].method(value, inplace=True)', try using 'df.method({col: value}, inplace=True)' or df[col] = df[col].method(value) instead, to perform the operation inplace on the original object.\n",
      "\n",
      "\n",
      "  heart['Ca'].fillna(heart['Ca'].mean().round(2), inplace=True) # filled the missing values in Ca column with mean\n"
     ]
    }
   ],
   "source": [
    "heart['Ca'].fillna(heart['Ca'].mean().round(2), inplace=True) # filled the missing values in Ca column with mean"
   ]
  },
  {
   "cell_type": "code",
   "execution_count": 43,
   "id": "d6e08722-4395-4361-b6ce-9d7ae2da82c6",
   "metadata": {},
   "outputs": [],
   "source": [
    "heart.dropna(subset=['Thal'], inplace=True) # drop null from Thal colunmn\n"
   ]
  },
  {
   "cell_type": "code",
   "execution_count": 44,
   "id": "1e144e88-10fa-4dd2-9a6b-e7327c44874c",
   "metadata": {},
   "outputs": [],
   "source": [
    "heart.drop('Unnamed: 0', axis=1, inplace=True) # drop unwanted column\n"
   ]
  },
  {
   "cell_type": "code",
   "execution_count": 52,
   "id": "a132befb-9fab-46e8-9014-d1e24a6b7c9e",
   "metadata": {},
   "outputs": [],
   "source": [
    "X = heart[['Age','Sex','ChestPain','RestBP','Chol','Fbs','RestECG','MaxHR','ExAng','Oldpeak','Slope','Ca','Thal']]\n",
    "X = pd.get_dummies(X, drop_first=False)\n",
    "y = heart['AHD']\n",
    "X_train, X_test, y_train, y_test = train_test_split(X, y, test_size=0.33, random_state=42)\n"
   ]
  },
  {
   "cell_type": "code",
   "execution_count": 53,
   "id": "91a37b0d-0995-470d-af67-deabaf144d08",
   "metadata": {},
   "outputs": [],
   "source": [
    "\n",
    "sc = StandardScaler()\n",
    "X_train = sc.fit_transform(X_train)\n",
    "X_test = sc.transform(X_test)\n"
   ]
  },
  {
   "cell_type": "code",
   "execution_count": 54,
   "id": "85c5f819-4543-4af7-9541-fb68911ec06d",
   "metadata": {},
   "outputs": [],
   "source": [
    "model = LogisticRegression(random_state=42)\n",
    "model.fit(X_train,y_train)\n",
    "y_pred = model.predict(X_test)"
   ]
  },
  {
   "cell_type": "code",
   "execution_count": 55,
   "id": "76eb7fe9-1829-445c-9081-765e9904239c",
   "metadata": {},
   "outputs": [
    {
     "name": "stdout",
     "output_type": "stream",
     "text": [
      "Accuracy: 0.85\n",
      "\n",
      "Classification Report:\n",
      "               precision    recall  f1-score   support\n",
      "\n",
      "          No       0.88      0.86      0.87        59\n",
      "         Yes       0.81      0.83      0.82        41\n",
      "\n",
      "    accuracy                           0.85       100\n",
      "   macro avg       0.84      0.85      0.85       100\n",
      "weighted avg       0.85      0.85      0.85       100\n",
      "\n",
      "\n",
      "Confusion Matrix:\n",
      " [[51  8]\n",
      " [ 7 34]]\n"
     ]
    }
   ],
   "source": [
    "print(\"Accuracy:\", accuracy_score(y_test, y_pred))\n",
    "print(\"\\nClassification Report:\\n\", classification_report(y_test, y_pred, target_names=['No', 'Yes']))\n",
    "print(\"\\nConfusion Matrix:\\n\", confusion_matrix(y_test, y_pred))\n"
   ]
  },
  {
   "cell_type": "code",
   "execution_count": 57,
   "id": "cf728655-a96e-4b25-a35f-3a2174acfc87",
   "metadata": {},
   "outputs": [
    {
     "name": "stdout",
     "output_type": "stream",
     "text": [
      "\n",
      "Feature importance (by coefficient):\n",
      "                   Feature  Coefficient  Absolute Value\n",
      "10                      Ca     1.455835        1.455835\n",
      "1                      Sex     0.612044        0.612044\n",
      "12    ChestPain_nonanginal    -0.542370        0.542370\n",
      "2                   RestBP     0.508702        0.508702\n",
      "11  ChestPain_asymptomatic     0.507544        0.507544\n",
      "7                    ExAng     0.445133        0.445133\n",
      "17         Thal_reversable     0.418672        0.418672\n",
      "9                    Slope     0.408297        0.408297\n",
      "16             Thal_normal    -0.350055        0.350055\n",
      "6                    MaxHR    -0.340894        0.340894\n",
      "8                  Oldpeak     0.322907        0.322907\n",
      "3                     Chol     0.276585        0.276585\n",
      "14       ChestPain_typical    -0.249707        0.249707\n",
      "13    ChestPain_nontypical     0.165243        0.165243\n",
      "15              Thal_fixed    -0.136109        0.136109\n",
      "5                  RestECG     0.105575        0.105575\n",
      "4                      Fbs    -0.075374        0.075374\n",
      "0                      Age     0.059846        0.059846\n"
     ]
    }
   ],
   "source": [
    "import pandas as pd\n",
    "coefficients = pd.DataFrame({\n",
    "    'Feature': X.columns,\n",
    "    'Coefficient': model.coef_[0]\n",
    "})\n",
    "coefficients['Absolute Value'] = coefficients['Coefficient'].abs()\n",
    "coefficients = coefficients.sort_values(by='Absolute Value', ascending=False)\n",
    "\n",
    "print(\"\\nFeature importance (by coefficient):\")\n",
    "print(coefficients)"
   ]
  },
  {
   "cell_type": "code",
   "execution_count": 58,
   "id": "94aa3baa-9072-4862-9477-a67c5d2a4779",
   "metadata": {},
   "outputs": [
    {
     "data": {
      "image/png": "[encoded data removed]",
      "text/plain": [
       "<Figure size 800x500 with 1 Axes>"
      ]
     },
     "metadata": {},
     "output_type": "display_data"
    }
   ],
   "source": [
    "import matplotlib.pyplot as plt\n",
    "\n",
    "plt.figure(figsize=(8,5))\n",
    "plt.barh(coefficients['Feature'], coefficients['Coefficient'])\n",
    "plt.xlabel('Coefficient Value')\n",
    "plt.title('Feature Importance (Logistic Regression)')\n",
    "plt.show()\n"
   ]
  },
  {
   "cell_type": "code",
   "execution_count": null,
   "id": "ace293d6-532d-45da-8f87-a395e407d9a8",
   "metadata": {},
   "outputs": [],
   "source": []
  }
 ],
 "metadata": {
  "kernelspec": {
   "display_name": "Python 3 (ipykernel)",
   "language": "python",
   "name": "python3"
  },
  "language_info": {
   "codemirror_mode": {
    "name": "ipython",
    "version": 3
   },
   "file_extension": ".py",
   "mimetype": "text/x-python",
   "name": "python",
   "nbconvert_exporter": "python",
   "pygments_lexer": "ipython3",
   "version": "3.12.4"
  }
 },
 "nbformat": 4,
 "nbformat_minor": 5
}
